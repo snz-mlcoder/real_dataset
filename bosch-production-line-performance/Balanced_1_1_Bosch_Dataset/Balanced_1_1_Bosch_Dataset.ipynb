{
  "nbformat": 4,
  "nbformat_minor": 0,
  "metadata": {
    "colab": {
      "provenance": [],
      "gpuType": "V28"
    },
    "kernelspec": {
      "name": "python3",
      "display_name": "Python 3"
    },
    "language_info": {
      "name": "python"
    },
    "accelerator": "TPU"
  },
  "cells": [
    {
      "cell_type": "code",
      "execution_count": 1,
      "metadata": {
        "id": "eygZCw9iteUv"
      },
      "outputs": [],
      "source": [
        "import numpy as np\n",
        "import pandas as pd\n",
        "import seaborn as sns\n",
        "import matplotlib.pyplot as plt\n",
        "import tqdm\n",
        "import gc\n",
        "import sys\n",
        "import warnings\n",
        "warnings.filterwarnings(\"ignore\")"
      ]
    },
    {
      "cell_type": "code",
      "source": [
        "# uplod kaggle.json\n",
        "from google.colab import files\n",
        "files.upload()"
      ],
      "metadata": {
        "colab": {
          "base_uri": "https://localhost:8080/",
          "height": 107
        },
        "id": "nxVPvyP6uQ9Q",
        "outputId": "d605c015-4985-4277-a23f-3c31aac8251a"
      },
      "execution_count": 2,
      "outputs": [
        {
          "output_type": "display_data",
          "data": {
            "text/plain": [
              "<IPython.core.display.HTML object>"
            ],
            "text/html": [
              "\n",
              "     <input type=\"file\" id=\"files-2110909a-3a30-4609-b0af-0543abdcf8bf\" name=\"files[]\" multiple disabled\n",
              "        style=\"border:none\" />\n",
              "     <output id=\"result-2110909a-3a30-4609-b0af-0543abdcf8bf\">\n",
              "      Upload widget is only available when the cell has been executed in the\n",
              "      current browser session. Please rerun this cell to enable.\n",
              "      </output>\n",
              "      <script>// Copyright 2017 Google LLC\n",
              "//\n",
              "// Licensed under the Apache License, Version 2.0 (the \"License\");\n",
              "// you may not use this file except in compliance with the License.\n",
              "// You may obtain a copy of the License at\n",
              "//\n",
              "//      http://www.apache.org/licenses/LICENSE-2.0\n",
              "//\n",
              "// Unless required by applicable law or agreed to in writing, software\n",
              "// distributed under the License is distributed on an \"AS IS\" BASIS,\n",
              "// WITHOUT WARRANTIES OR CONDITIONS OF ANY KIND, either express or implied.\n",
              "// See the License for the specific language governing permissions and\n",
              "// limitations under the License.\n",
              "\n",
              "/**\n",
              " * @fileoverview Helpers for google.colab Python module.\n",
              " */\n",
              "(function(scope) {\n",
              "function span(text, styleAttributes = {}) {\n",
              "  const element = document.createElement('span');\n",
              "  element.textContent = text;\n",
              "  for (const key of Object.keys(styleAttributes)) {\n",
              "    element.style[key] = styleAttributes[key];\n",
              "  }\n",
              "  return element;\n",
              "}\n",
              "\n",
              "// Max number of bytes which will be uploaded at a time.\n",
              "const MAX_PAYLOAD_SIZE = 100 * 1024;\n",
              "\n",
              "function _uploadFiles(inputId, outputId) {\n",
              "  const steps = uploadFilesStep(inputId, outputId);\n",
              "  const outputElement = document.getElementById(outputId);\n",
              "  // Cache steps on the outputElement to make it available for the next call\n",
              "  // to uploadFilesContinue from Python.\n",
              "  outputElement.steps = steps;\n",
              "\n",
              "  return _uploadFilesContinue(outputId);\n",
              "}\n",
              "\n",
              "// This is roughly an async generator (not supported in the browser yet),\n",
              "// where there are multiple asynchronous steps and the Python side is going\n",
              "// to poll for completion of each step.\n",
              "// This uses a Promise to block the python side on completion of each step,\n",
              "// then passes the result of the previous step as the input to the next step.\n",
              "function _uploadFilesContinue(outputId) {\n",
              "  const outputElement = document.getElementById(outputId);\n",
              "  const steps = outputElement.steps;\n",
              "\n",
              "  const next = steps.next(outputElement.lastPromiseValue);\n",
              "  return Promise.resolve(next.value.promise).then((value) => {\n",
              "    // Cache the last promise value to make it available to the next\n",
              "    // step of the generator.\n",
              "    outputElement.lastPromiseValue = value;\n",
              "    return next.value.response;\n",
              "  });\n",
              "}\n",
              "\n",
              "/**\n",
              " * Generator function which is called between each async step of the upload\n",
              " * process.\n",
              " * @param {string} inputId Element ID of the input file picker element.\n",
              " * @param {string} outputId Element ID of the output display.\n",
              " * @return {!Iterable<!Object>} Iterable of next steps.\n",
              " */\n",
              "function* uploadFilesStep(inputId, outputId) {\n",
              "  const inputElement = document.getElementById(inputId);\n",
              "  inputElement.disabled = false;\n",
              "\n",
              "  const outputElement = document.getElementById(outputId);\n",
              "  outputElement.innerHTML = '';\n",
              "\n",
              "  const pickedPromise = new Promise((resolve) => {\n",
              "    inputElement.addEventListener('change', (e) => {\n",
              "      resolve(e.target.files);\n",
              "    });\n",
              "  });\n",
              "\n",
              "  const cancel = document.createElement('button');\n",
              "  inputElement.parentElement.appendChild(cancel);\n",
              "  cancel.textContent = 'Cancel upload';\n",
              "  const cancelPromise = new Promise((resolve) => {\n",
              "    cancel.onclick = () => {\n",
              "      resolve(null);\n",
              "    };\n",
              "  });\n",
              "\n",
              "  // Wait for the user to pick the files.\n",
              "  const files = yield {\n",
              "    promise: Promise.race([pickedPromise, cancelPromise]),\n",
              "    response: {\n",
              "      action: 'starting',\n",
              "    }\n",
              "  };\n",
              "\n",
              "  cancel.remove();\n",
              "\n",
              "  // Disable the input element since further picks are not allowed.\n",
              "  inputElement.disabled = true;\n",
              "\n",
              "  if (!files) {\n",
              "    return {\n",
              "      response: {\n",
              "        action: 'complete',\n",
              "      }\n",
              "    };\n",
              "  }\n",
              "\n",
              "  for (const file of files) {\n",
              "    const li = document.createElement('li');\n",
              "    li.append(span(file.name, {fontWeight: 'bold'}));\n",
              "    li.append(span(\n",
              "        `(${file.type || 'n/a'}) - ${file.size} bytes, ` +\n",
              "        `last modified: ${\n",
              "            file.lastModifiedDate ? file.lastModifiedDate.toLocaleDateString() :\n",
              "                                    'n/a'} - `));\n",
              "    const percent = span('0% done');\n",
              "    li.appendChild(percent);\n",
              "\n",
              "    outputElement.appendChild(li);\n",
              "\n",
              "    const fileDataPromise = new Promise((resolve) => {\n",
              "      const reader = new FileReader();\n",
              "      reader.onload = (e) => {\n",
              "        resolve(e.target.result);\n",
              "      };\n",
              "      reader.readAsArrayBuffer(file);\n",
              "    });\n",
              "    // Wait for the data to be ready.\n",
              "    let fileData = yield {\n",
              "      promise: fileDataPromise,\n",
              "      response: {\n",
              "        action: 'continue',\n",
              "      }\n",
              "    };\n",
              "\n",
              "    // Use a chunked sending to avoid message size limits. See b/62115660.\n",
              "    let position = 0;\n",
              "    do {\n",
              "      const length = Math.min(fileData.byteLength - position, MAX_PAYLOAD_SIZE);\n",
              "      const chunk = new Uint8Array(fileData, position, length);\n",
              "      position += length;\n",
              "\n",
              "      const base64 = btoa(String.fromCharCode.apply(null, chunk));\n",
              "      yield {\n",
              "        response: {\n",
              "          action: 'append',\n",
              "          file: file.name,\n",
              "          data: base64,\n",
              "        },\n",
              "      };\n",
              "\n",
              "      let percentDone = fileData.byteLength === 0 ?\n",
              "          100 :\n",
              "          Math.round((position / fileData.byteLength) * 100);\n",
              "      percent.textContent = `${percentDone}% done`;\n",
              "\n",
              "    } while (position < fileData.byteLength);\n",
              "  }\n",
              "\n",
              "  // All done.\n",
              "  yield {\n",
              "    response: {\n",
              "      action: 'complete',\n",
              "    }\n",
              "  };\n",
              "}\n",
              "\n",
              "scope.google = scope.google || {};\n",
              "scope.google.colab = scope.google.colab || {};\n",
              "scope.google.colab._files = {\n",
              "  _uploadFiles,\n",
              "  _uploadFilesContinue,\n",
              "};\n",
              "})(self);\n",
              "</script> "
            ]
          },
          "metadata": {}
        },
        {
          "output_type": "stream",
          "name": "stdout",
          "text": [
            "Saving kaggle.json to kaggle.json\n"
          ]
        },
        {
          "output_type": "execute_result",
          "data": {
            "text/plain": [
              "{'kaggle.json': b'{\"username\":\"saeidehnajafzadeh\",\"key\":\"6288d0f09353bef35d879717fb5a1834\"}'}"
            ]
          },
          "metadata": {},
          "execution_count": 2
        }
      ]
    },
    {
      "cell_type": "code",
      "source": [
        "!mkdir -p ~/.kaggle\n",
        "!cp kaggle.json ~/.kaggle/\n",
        "!chmod 600 ~/.kaggle/kaggle.json"
      ],
      "metadata": {
        "id": "dIuI-7ybuV4H"
      },
      "execution_count": 3,
      "outputs": []
    },
    {
      "cell_type": "code",
      "source": [
        "!kaggle competitions download -c bosch-production-line-performance\n"
      ],
      "metadata": {
        "colab": {
          "base_uri": "https://localhost:8080/"
        },
        "id": "SBlR6s3XuYHB",
        "outputId": "32cd7c8e-6fe0-4d8c-8ac9-41556446e344"
      },
      "execution_count": 4,
      "outputs": [
        {
          "output_type": "stream",
          "name": "stdout",
          "text": [
            "Downloading bosch-production-line-performance.zip to /content\n",
            " 86% 587M/680M [00:00<00:00, 1.22GB/s]\n",
            "100% 680M/680M [00:00<00:00, 1.22GB/s]\n"
          ]
        }
      ]
    },
    {
      "cell_type": "code",
      "source": [
        "!unzip bosch-production-line-performance.zip -d bosch_data\n"
      ],
      "metadata": {
        "colab": {
          "base_uri": "https://localhost:8080/"
        },
        "id": "Vu2Zsf_pucV8",
        "outputId": "69467800-24ae-44df-e8f4-ef23bbe7ff47"
      },
      "execution_count": 5,
      "outputs": [
        {
          "output_type": "stream",
          "name": "stdout",
          "text": [
            "Archive:  bosch-production-line-performance.zip\n",
            "  inflating: bosch_data/sample_submission.csv.zip  \n",
            "  inflating: bosch_data/test_categorical.csv.zip  \n",
            "  inflating: bosch_data/test_date.csv.zip  \n",
            "  inflating: bosch_data/test_numeric.csv.zip  \n",
            "  inflating: bosch_data/train_categorical.csv.zip  \n",
            "  inflating: bosch_data/train_date.csv.zip  \n",
            "  inflating: bosch_data/train_numeric.csv.zip  \n"
          ]
        }
      ]
    },
    {
      "cell_type": "code",
      "source": [
        "date = pd.read_csv('bosch_data/train_date.csv.zip')\n",
        "numeric = pd.read_csv('bosch_data/train_numeric.csv.zip')\n",
        "category = pd.read_csv('bosch_data/train_categorical.csv.zip')\n",
        "\n",
        "print(date.shape, numeric.shape, category.shape)"
      ],
      "metadata": {
        "colab": {
          "base_uri": "https://localhost:8080/"
        },
        "id": "-dyDvKQoufx3",
        "outputId": "5f342ecd-b4cb-4f2e-b331-7830eb179cf3"
      },
      "execution_count": 6,
      "outputs": [
        {
          "output_type": "stream",
          "name": "stdout",
          "text": [
            "(1183747, 1157) (1183747, 970) (1183747, 2141)\n"
          ]
        }
      ]
    },
    {
      "cell_type": "markdown",
      "source": [
        "Balanced 1:1 Bosch Dataset\n",
        "\n",
        "Balanced 1:3 Bosch Dataset"
      ],
      "metadata": {
        "id": "yX8_Uko801g6"
      }
    },
    {
      "cell_type": "code",
      "source": [
        "# Separate all class 1 and class 0 rows\n",
        "class_1_df = numeric[numeric[\"Response\"] == 1]\n",
        "class_0_df = numeric[numeric[\"Response\"] == 0]\n",
        "\n",
        "print(f\"Class 1 samples: {len(class_1_df)}\")\n",
        "print(f\"Class 0 samples: {len(class_0_df)}\")\n",
        "\n",
        "# Version 1: 1:1 balance\n",
        "class_0_balanced_1to1 = class_0_df.sample(n=len(class_1_df), random_state=42)\n",
        "ids_1to1 = pd.concat([class_1_df[\"Id\"], class_0_balanced_1to1[\"Id\"]])\n",
        "\n",
        "# Version 2: 1:3 balance\n",
        "n_class_0_1to3 = 3 * len(class_1_df)\n",
        "class_0_balanced_1to3 = class_0_df.sample(n=n_class_0_1to3, random_state=42)\n",
        "ids_1to3 = pd.concat([class_1_df[\"Id\"], class_0_balanced_1to3[\"Id\"]])\n",
        "\n",
        "# Filter all datasets by Id\n",
        "def filter_by_ids(df, ids):\n",
        "    return df[df[\"Id\"].isin(ids)]\n",
        "\n",
        "# Filter for 1:1\n",
        "numeric_1to1 = filter_by_ids(numeric, ids_1to1)\n",
        "date_1to1 = filter_by_ids(date, ids_1to1)\n",
        "category_1to1 = filter_by_ids(category, ids_1to1)\n",
        "\n",
        "# Filter for 1:3\n",
        "numeric_1to3 = filter_by_ids(numeric, ids_1to3)\n",
        "date_1to3 = filter_by_ids(date, ids_1to3)\n",
        "category_1to3 = filter_by_ids(category, ids_1to3)\n",
        "\n",
        "# Print final shapes\n",
        "print(\"\\n 1:1 balanced version:\")\n",
        "print(\"Numeric:\", numeric_1to1.shape)\n",
        "print(\"Date:\", date_1to1.shape)\n",
        "print(\"Category:\", category_1to1.shape)\n",
        "\n",
        "print(\"\\n 1:3 version:\")\n",
        "print(\"Numeric:\", numeric_1to3.shape)\n",
        "print(\"Date:\", date_1to3.shape)\n",
        "print(\"Category:\", category_1to3.shape)\n"
      ],
      "metadata": {
        "colab": {
          "base_uri": "https://localhost:8080/"
        },
        "id": "FHWqEL0jyeZL",
        "outputId": "06b3ab64-d3fa-436b-9436-9bd79cedc782"
      },
      "execution_count": 7,
      "outputs": [
        {
          "output_type": "stream",
          "name": "stdout",
          "text": [
            "Class 1 samples: 6879\n",
            "Class 0 samples: 1176868\n",
            "\n",
            "📦 1:1 balanced version:\n",
            "Numeric: (13758, 970)\n",
            "Date: (13758, 1157)\n",
            "Category: (13758, 2141)\n",
            "\n",
            "📦 1:3 version:\n",
            "Numeric: (27516, 970)\n",
            "Date: (27516, 1157)\n",
            "Category: (27516, 2141)\n"
          ]
        }
      ]
    },
    {
      "cell_type": "markdown",
      "source": [
        "Clean missing values (numerical)\n",
        "\n"
      ],
      "metadata": {
        "id": "wI2JJ1Jt1IU0"
      }
    },
    {
      "cell_type": "markdown",
      "source": [
        "Drop high-NaN and constant columns"
      ],
      "metadata": {
        "id": "Q_nTvnC71Pkh"
      }
    },
    {
      "cell_type": "code",
      "source": [
        "# Drop columns with >90% missing\n",
        "nan_ratio = numeric_1to1.isnull().mean()\n",
        "high_nan_cols = nan_ratio[nan_ratio > 0.9].index\n",
        "numeric_1to1_clean = numeric_1to1.drop(columns=high_nan_cols)\n",
        "\n",
        "# Drop columns with only 1 unique value\n",
        "unique_counts = numeric_1to1_clean.nunique()\n",
        "constant_cols = unique_counts[unique_counts == 1].index\n",
        "numeric_1to1_clean = numeric_1to1_clean.drop(columns=constant_cols)\n",
        "\n",
        "print(\"Cleaned numeric shape:\", numeric_1to1_clean.shape)\n"
      ],
      "metadata": {
        "colab": {
          "base_uri": "https://localhost:8080/"
        },
        "id": "UN3nW8Ml0rz0",
        "outputId": "991cb997-47d3-4db9-d210-0a18ecd45d1b"
      },
      "execution_count": 8,
      "outputs": [
        {
          "output_type": "stream",
          "name": "stdout",
          "text": [
            "Cleaned numeric shape: (13758, 306)\n"
          ]
        }
      ]
    },
    {
      "cell_type": "markdown",
      "source": [
        "Encode categorical features -  with one-hot (category)\n"
      ],
      "metadata": {
        "id": "DOYTlae11YiS"
      }
    },
    {
      "cell_type": "code",
      "source": [
        "#  Drop columns with too many missing values\n",
        "nan_ratio_cat = category_1to1.isnull().mean()\n",
        "category_1to1_clean = category_1to1.drop(columns=nan_ratio_cat[nan_ratio_cat > 0.9].index)\n",
        "\n",
        "# Drop low-variance columns (only 1 unique value)\n",
        "unique_counts_cat = category_1to1_clean.nunique()\n",
        "category_1to1_clean = category_1to1_clean.drop(columns=unique_counts_cat[unique_counts_cat == 1].index)\n",
        "\n",
        "# Fill remaining NaNs with 'missing'\n",
        "category_1to1_clean = category_1to1_clean.fillna(\"missing\")\n",
        "\n",
        "# Drop 'Id' column\n",
        "category_1to1_features = category_1to1_clean.drop(columns=[\"Id\"])\n",
        "\n",
        "# Apply one-hot encoding\n",
        "category_1to1_encoded = pd.get_dummies(category_1to1_features, drop_first=True)\n",
        "\n",
        "print(\"Encoded categorical shape:\", category_1to1_encoded.shape)\n"
      ],
      "metadata": {
        "colab": {
          "base_uri": "https://localhost:8080/"
        },
        "id": "tjDoH5y01eWo",
        "outputId": "6b998f9a-9d5b-49cd-c998-580df6c0887a"
      },
      "execution_count": 9,
      "outputs": [
        {
          "output_type": "stream",
          "name": "stdout",
          "text": [
            "Encoded categorical shape: (13758, 16)\n"
          ]
        }
      ]
    },
    {
      "cell_type": "markdown",
      "source": [],
      "metadata": {
        "id": "-B626BPo1rbU"
      }
    },
    {
      "cell_type": "markdown",
      "source": [
        " Merge numeric and categorical features"
      ],
      "metadata": {
        "id": "0CPD-eB01sec"
      }
    },
    {
      "cell_type": "code",
      "source": [
        "# Drop Id and Response from numeric\n",
        "numeric_features = numeric_1to1_clean.drop(columns=[\"Id\", \"Response\"])\n",
        "\n",
        "# Merge on row index (since both dataframes are aligned)\n",
        "X = pd.concat([numeric_features.reset_index(drop=True), category_1to1_encoded.reset_index(drop=True)], axis=1)\n",
        "y = numeric_1to1_clean[\"Response\"].values\n",
        "\n",
        "print(\"Final feature matrix shape:\", X.shape)\n"
      ],
      "metadata": {
        "colab": {
          "base_uri": "https://localhost:8080/"
        },
        "id": "33RE6ILG1ewY",
        "outputId": "b3eafada-d93f-4311-9cbc-e404de7ae070"
      },
      "execution_count": 10,
      "outputs": [
        {
          "output_type": "stream",
          "name": "stdout",
          "text": [
            "Final feature matrix shape: (13758, 320)\n"
          ]
        }
      ]
    },
    {
      "cell_type": "markdown",
      "source": [
        "Add summary features from date\n",
        "\n"
      ],
      "metadata": {
        "id": "hcK4lJvh2JRT"
      }
    },
    {
      "cell_type": "code",
      "source": [
        "# Drop Id column\n",
        "date_only = date_1to1.drop(columns=[\"Id\"])\n",
        "\n",
        "# Extract min, max, and duration per row\n",
        "start_time = date_only.min(axis=1)\n",
        "end_time = date_only.max(axis=1)\n",
        "duration = end_time - start_time\n",
        "\n",
        "# Create a new dataframe\n",
        "date_summary = pd.DataFrame({\n",
        "    \"start_time\": start_time,\n",
        "    \"end_time\": end_time,\n",
        "    \"duration\": duration\n",
        "})\n",
        "\n",
        "# Combine with existing X\n",
        "X = pd.concat([X.reset_index(drop=True), date_summary.reset_index(drop=True)], axis=1)\n",
        "\n",
        "print(\"🔧 Final feature matrix shape with date:\", X.shape)\n"
      ],
      "metadata": {
        "colab": {
          "base_uri": "https://localhost:8080/"
        },
        "id": "8wMYEayw1a-s",
        "outputId": "8ad151c2-170b-4966-93ab-03434a775fa6"
      },
      "execution_count": 11,
      "outputs": [
        {
          "output_type": "stream",
          "name": "stdout",
          "text": [
            "🔧 Final feature matrix shape with date: (13758, 323)\n"
          ]
        }
      ]
    },
    {
      "cell_type": "markdown",
      "source": [
        "Train XGBoost on full feature set"
      ],
      "metadata": {
        "id": "o68ATzAe2bjf"
      }
    },
    {
      "cell_type": "code",
      "source": [
        "%pip install xgboost"
      ],
      "metadata": {
        "colab": {
          "base_uri": "https://localhost:8080/"
        },
        "id": "GX6zVzE12mP4",
        "outputId": "a82c6fe1-6731-4b27-ad26-e00d31115c84"
      },
      "execution_count": 13,
      "outputs": [
        {
          "output_type": "stream",
          "name": "stdout",
          "text": [
            "Collecting xgboost\n",
            "  Downloading xgboost-3.0.2-py3-none-manylinux_2_28_x86_64.whl.metadata (2.1 kB)\n",
            "Requirement already satisfied: numpy in /usr/local/lib/python3.11/dist-packages (from xgboost) (2.0.2)\n",
            "Collecting nvidia-nccl-cu12 (from xgboost)\n",
            "  Downloading nvidia_nccl_cu12-2.27.6-py3-none-manylinux2014_x86_64.manylinux_2_17_x86_64.whl.metadata (2.0 kB)\n",
            "Requirement already satisfied: scipy in /usr/local/lib/python3.11/dist-packages (from xgboost) (1.16.0)\n",
            "Downloading xgboost-3.0.2-py3-none-manylinux_2_28_x86_64.whl (253.9 MB)\n",
            "\u001b[2K   \u001b[90m━━━━━━━━━━━━━━━━━━━━━━━━━━━━━━━━━━━━━━━━\u001b[0m \u001b[32m253.9/253.9 MB\u001b[0m \u001b[31m4.1 MB/s\u001b[0m eta \u001b[36m0:00:00\u001b[0m\n",
            "\u001b[?25hDownloading nvidia_nccl_cu12-2.27.6-py3-none-manylinux2014_x86_64.manylinux_2_17_x86_64.whl (322.5 MB)\n",
            "\u001b[2K   \u001b[90m━━━━━━━━━━━━━━━━━━━━━━━━━━━━━━━━━━━━━━━━\u001b[0m \u001b[32m322.5/322.5 MB\u001b[0m \u001b[31m3.4 MB/s\u001b[0m eta \u001b[36m0:00:00\u001b[0m\n",
            "\u001b[?25hInstalling collected packages: nvidia-nccl-cu12, xgboost\n",
            "Successfully installed nvidia-nccl-cu12-2.27.6 xgboost-3.0.2\n"
          ]
        }
      ]
    },
    {
      "cell_type": "code",
      "source": [
        "from sklearn.model_selection import train_test_split\n",
        "from xgboost import XGBClassifier\n",
        "from sklearn.metrics import classification_report, confusion_matrix\n",
        "\n",
        "# Split data\n",
        "X_train, X_test, y_train, y_test = train_test_split(\n",
        "    X, y, test_size=0.2, stratify=y, random_state=42\n",
        ")\n",
        "\n",
        "# Train XGBoost\n",
        "xgb = XGBClassifier(\n",
        "    n_estimators=100,\n",
        "    max_depth=5,\n",
        "    learning_rate=0.1,\n",
        "    subsample=0.8,\n",
        "    colsample_bytree=0.8,\n",
        "    use_label_encoder=False,\n",
        "    eval_metric='logloss',\n",
        "    random_state=42\n",
        ")\n",
        "xgb.fit(X_train, y_train)\n",
        "\n",
        "# Evaluate\n",
        "y_pred = xgb.predict(X_test)\n",
        "print(confusion_matrix(y_test, y_pred))\n",
        "print(classification_report(y_test, y_pred, digits=4))\n"
      ],
      "metadata": {
        "colab": {
          "base_uri": "https://localhost:8080/"
        },
        "id": "bUn6LZxV2ZXB",
        "outputId": "83282e50-268b-4b66-f6a5-543feb6ccc2e"
      },
      "execution_count": 14,
      "outputs": [
        {
          "output_type": "stream",
          "name": "stdout",
          "text": [
            "[[962 414]\n",
            " [561 815]]\n",
            "              precision    recall  f1-score   support\n",
            "\n",
            "           0     0.6316    0.6991    0.6637      1376\n",
            "           1     0.6631    0.5923    0.6257      1376\n",
            "\n",
            "    accuracy                         0.6457      2752\n",
            "   macro avg     0.6474    0.6457    0.6447      2752\n",
            "weighted avg     0.6474    0.6457    0.6447      2752\n",
            "\n"
          ]
        }
      ]
    },
    {
      "cell_type": "markdown",
      "source": [
        "Plot XGBoost Feature Importance"
      ],
      "metadata": {
        "id": "fNyDOpIA3XWe"
      }
    },
    {
      "cell_type": "code",
      "source": [
        "import matplotlib.pyplot as plt\n",
        "\n",
        "# Get feature importance scores from trained XGBoost model\n",
        "importances = xgb.feature_importances_\n",
        "\n",
        "# Create a dataframe for easy plotting\n",
        "feature_names = X.columns\n",
        "importance_df = pd.DataFrame({\n",
        "    'Feature': feature_names,\n",
        "    'Importance': importances\n",
        "})\n",
        "\n",
        "# Sort by importance\n",
        "importance_df = importance_df.sort_values(by='Importance', ascending=False)\n",
        "\n",
        "# Plot top 20 features\n",
        "plt.figure(figsize=(10, 6))\n",
        "plt.barh(importance_df['Feature'][:20][::-1], importance_df['Importance'][:20][::-1])\n",
        "plt.xlabel('Importance Score')\n",
        "plt.title(' Top 20 Feature Importances (XGBoost)')\n",
        "plt.tight_layout()\n",
        "plt.show()\n"
      ],
      "metadata": {
        "colab": {
          "base_uri": "https://localhost:8080/",
          "height": 392
        },
        "id": "Zw9g-sxD3Wj3",
        "outputId": "4a1e7d41-f61c-42d0-b7d5-178638c1dd2e"
      },
      "execution_count": 16,
      "outputs": [
        {
          "output_type": "display_data",
          "data": {
            "text/plain": [
              "<Figure size 1000x600 with 1 Axes>"
            ],
            "image/png": "[encoded data removed]"
          },
          "metadata": {}
        }
      ]
    },
    {
      "cell_type": "markdown",
      "source": [
        "Select top 10 important features"
      ],
      "metadata": {
        "id": "Jlq9aFWe4CMF"
      }
    },
    {
      "cell_type": "code",
      "source": [
        "top_10_features = importance_df['Feature'].iloc[:10].tolist()\n",
        "\n",
        "# Create a new X with only those features\n",
        "X_top10 = X[top_10_features]\n",
        "\n",
        "print(\"Top 10 features:\", top_10_features)\n",
        "print(\"X_top10 shape:\", X_top10.shape)"
      ],
      "metadata": {
        "colab": {
          "base_uri": "https://localhost:8080/"
        },
        "id": "JpYrdwBE4Gj6",
        "outputId": "c505e701-7d0c-49ec-b837-5b6a4a458926"
      },
      "execution_count": 17,
      "outputs": [
        {
          "output_type": "stream",
          "name": "stdout",
          "text": [
            "Top 10 features: ['L3_S33_F3871', 'L3_S33_F3869', 'L3_S33_F3873', 'start_time', 'L3_S29_F3324', 'L1_S24_F1844', 'L3_S33_F3855', 'L3_S29_F3407', 'end_time', 'L3_S29_F3339']\n",
            "X_top10 shape: (13758, 10)\n"
          ]
        }
      ]
    },
    {
      "cell_type": "markdown",
      "source": [
        "Train XGBoost on top 10 features"
      ],
      "metadata": {
        "id": "OI0moUNg4Iyq"
      }
    },
    {
      "cell_type": "code",
      "source": [
        "from sklearn.model_selection import train_test_split\n",
        "from xgboost import XGBClassifier\n",
        "from sklearn.metrics import classification_report, confusion_matrix\n",
        "\n",
        "# Train/test split\n",
        "X_train, X_test, y_train, y_test = train_test_split(\n",
        "    X_top10, y, test_size=0.2, stratify=y, random_state=42\n",
        ")\n",
        "\n",
        "# Train XGBoost\n",
        "xgb_top10 = XGBClassifier(\n",
        "    n_estimators=100,\n",
        "    max_depth=5,\n",
        "    learning_rate=0.1,\n",
        "    subsample=0.8,\n",
        "    colsample_bytree=0.8,\n",
        "    use_label_encoder=False,\n",
        "    eval_metric='logloss',\n",
        "    random_state=42\n",
        ")\n",
        "xgb_top10.fit(X_train, y_train)\n",
        "\n",
        "# Evaluate\n",
        "y_pred_top10 = xgb_top10.predict(X_test)\n",
        "print(confusion_matrix(y_test, y_pred_top10))\n",
        "print(classification_report(y_test, y_pred_top10, digits=4))\n"
      ],
      "metadata": {
        "colab": {
          "base_uri": "https://localhost:8080/"
        },
        "id": "AjBemhqy4KqO",
        "outputId": "68f090a2-e4b7-4e4d-bd6a-34b45e846ce7"
      },
      "execution_count": 18,
      "outputs": [
        {
          "output_type": "stream",
          "name": "stdout",
          "text": [
            "[[958 418]\n",
            " [554 822]]\n",
            "              precision    recall  f1-score   support\n",
            "\n",
            "           0     0.6336    0.6962    0.6634      1376\n",
            "           1     0.6629    0.5974    0.6284      1376\n",
            "\n",
            "    accuracy                         0.6468      2752\n",
            "   macro avg     0.6483    0.6468    0.6459      2752\n",
            "weighted avg     0.6483    0.6468    0.6459      2752\n",
            "\n"
          ]
        }
      ]
    },
    {
      "cell_type": "markdown",
      "source": [
        "Grid Search for XGBoost Hyperparameters"
      ],
      "metadata": {
        "id": "NOyeLvlN4veA"
      }
    },
    {
      "cell_type": "code",
      "source": [
        "from sklearn.model_selection import GridSearchCV\n",
        "from xgboost import XGBClassifier\n",
        "\n",
        "# Smaller param grid to keep it fast\n",
        "param_grid = {\n",
        "    'max_depth': [3, 5, 7],\n",
        "    'learning_rate': [0.01, 0.1, 0.2],\n",
        "    'n_estimators': [50, 100, 150]\n",
        "}\n",
        "\n",
        "# Base model\n",
        "xgb_model = XGBClassifier(\n",
        "    subsample=0.8,\n",
        "    colsample_bytree=0.8,\n",
        "    use_label_encoder=False,\n",
        "    eval_metric='logloss',\n",
        "    random_state=42\n",
        ")\n",
        "\n",
        "# Run GridSearchCV (3-fold cross-validation)\n",
        "grid_search = GridSearchCV(\n",
        "    estimator=xgb_model,\n",
        "    param_grid=param_grid,\n",
        "    scoring='f1',\n",
        "    cv=3,\n",
        "    verbose=1,\n",
        "    n_jobs=-1\n",
        ")\n",
        "\n",
        "grid_search.fit(X_top10, y)\n",
        "\n",
        "# Best params\n",
        "print(\" Best parameters found:\", grid_search.best_params_)\n"
      ],
      "metadata": {
        "colab": {
          "base_uri": "https://localhost:8080/"
        },
        "id": "KQO_uif_4wkx",
        "outputId": "eebd46a4-15ba-4904-c229-44e864b90637"
      },
      "execution_count": 19,
      "outputs": [
        {
          "output_type": "stream",
          "name": "stdout",
          "text": [
            "Fitting 3 folds for each of 27 candidates, totalling 81 fits\n",
            " Best parameters found: {'learning_rate': 0.01, 'max_depth': 3, 'n_estimators': 50}\n"
          ]
        }
      ]
    },
    {
      "cell_type": "markdown",
      "source": [
        "Train final tuned XGBoost model"
      ],
      "metadata": {
        "id": "4vHygou15Dkm"
      }
    },
    {
      "cell_type": "code",
      "source": [
        "xgb_final = XGBClassifier(\n",
        "    learning_rate=0.01,\n",
        "    max_depth=3,\n",
        "    n_estimators=50,\n",
        "    subsample=0.8,\n",
        "    colsample_bytree=0.8,\n",
        "    use_label_encoder=False,\n",
        "    eval_metric='logloss',\n",
        "    random_state=42\n",
        ")\n",
        "\n",
        "# Split again for final test\n",
        "from sklearn.model_selection import train_test_split\n",
        "X_train, X_test, y_train, y_test = train_test_split(\n",
        "    X_top10, y, test_size=0.2, stratify=y, random_state=42\n",
        ")\n",
        "\n",
        "# Train\n",
        "xgb_final.fit(X_train, y_train)\n",
        "\n",
        "# Predict and evaluate\n",
        "from sklearn.metrics import classification_report, confusion_matrix\n",
        "\n",
        "y_pred = xgb_final.predict(X_test)\n",
        "print(confusion_matrix(y_test, y_pred))\n",
        "print(classification_report(y_test, y_pred, digits=4))\n"
      ],
      "metadata": {
        "colab": {
          "base_uri": "https://localhost:8080/"
        },
        "id": "N3qDDY6b5Bil",
        "outputId": "f1e6658a-c5e1-4db7-b53e-678bb62e71a9"
      },
      "execution_count": 20,
      "outputs": [
        {
          "output_type": "stream",
          "name": "stdout",
          "text": [
            "[[689 687]\n",
            " [385 991]]\n",
            "              precision    recall  f1-score   support\n",
            "\n",
            "           0     0.6415    0.5007    0.5624      1376\n",
            "           1     0.5906    0.7202    0.6490      1376\n",
            "\n",
            "    accuracy                         0.6105      2752\n",
            "   macro avg     0.6161    0.6105    0.6057      2752\n",
            "weighted avg     0.6161    0.6105    0.6057      2752\n",
            "\n"
          ]
        }
      ]
    },
    {
      "cell_type": "markdown",
      "source": [
        "\n",
        "Although the overall accuracy dropped, the tuned model is significantly better at identifying defective products (class 1), which is often the primary business goal in industrial failure detection tasks such as the Bosch Production Line challenge.\n",
        "\n",
        "Conclusion:\n",
        "\n",
        "Prioritizing recall over accuracy is a valid trade-off in this context, as missing a defective item can be far more costly than falsely flagging a good one.\n",
        "\n"
      ],
      "metadata": {
        "id": "whk-pOUA5gIR"
      }
    },
    {
      "cell_type": "markdown",
      "source": [
        "Save trained XGBoost model and selected features\n",
        "\n"
      ],
      "metadata": {
        "id": "RqKb2NfQ5vFx"
      }
    },
    {
      "cell_type": "code",
      "source": [
        "import joblib\n",
        "\n",
        "# Save the trained model\n",
        "joblib.dump(xgb_final, \"xgb_top10_balanced_model.joblib\")\n",
        "\n",
        "# Save the top 10 feature names\n",
        "with open(\"top_10_features.txt\", \"w\") as f:\n",
        "    for feature in top_10_features:\n",
        "        f.write(feature + \"\\n\")\n",
        "\n",
        "print(\" Model and feature list saved successfully!\")\n"
      ],
      "metadata": {
        "colab": {
          "base_uri": "https://localhost:8080/"
        },
        "id": "4Cr9ahhn5kf2",
        "outputId": "016fb33e-5e78-4a8d-b354-b677891d3ba0"
      },
      "execution_count": 22,
      "outputs": [
        {
          "output_type": "stream",
          "name": "stdout",
          "text": [
            " Model and feature list saved successfully!\n"
          ]
        }
      ]
    }
  ]
}